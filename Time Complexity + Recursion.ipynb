{
 "cells": [
  {
   "cell_type": "code",
   "execution_count": 1,
   "metadata": {},
   "outputs": [],
   "source": [
    "# # Find time complexity of below code blocks \n",
    "# Problem 1 :\n",
    "\n",
    "\n",
    "# def quicksort(arr):\n",
    "\n",
    "#     if len(arr) <= 1: -------------------------------------------->O(1)\n",
    "\n",
    "#         return arr\n",
    "\n",
    "#     pivot = arr[len(arr) // 2] --------------------------------------->O(1)\n",
    "\n",
    "#     left = [x for x in arr if x < pivot]      ------>O(n)\n",
    "\n",
    "#     middle = [x for x in arr if x == pivot]   -------->O(n)\n",
    "\n",
    "#     right = [x for x in arr if x > pivot]     --------->O(n)\n",
    "\n",
    "#     return quicksort(left) + middle + quicksort(right) -------------->O(nlogn)  "
   ]
  },
  {
   "cell_type": "code",
   "execution_count": 13,
   "metadata": {},
   "outputs": [
    {
     "data": {
      "text/plain": [
       "3"
      ]
     },
     "execution_count": 13,
     "metadata": {},
     "output_type": "execute_result"
    }
   ],
   "source": [
    "# Problem 2 :\n",
    "\n",
    "\n",
    "# def nested_loop_example(matrix):---------------------------->O(n**2)\n",
    "\n",
    "#     rows, cols = len(matrix), len(matrix[0]) ----------->O(1)\n",
    "\n",
    "#     total = 0\n",
    "\n",
    "#     for i in range(rows):------------->O(n)\n",
    "\n",
    "#         for j in range(cols):--------------->O(n)\n",
    "\n",
    "#             total += matrix[i][j]\n",
    "\n",
    "#     return total\n"
   ]
  },
  {
   "cell_type": "code",
   "execution_count": 3,
   "metadata": {},
   "outputs": [],
   "source": [
    "# Problem 3 :\n",
    "\n",
    "\n",
    "# def example_function(arr):----------------------->O(n)\n",
    "\n",
    "#     result = 0\n",
    "\n",
    "#     for element in arr:------------------>O(n)\n",
    "\n",
    "#         result += element\n",
    "\n",
    "#     return result\n",
    "\n",
    "\n",
    "\n"
   ]
  },
  {
   "cell_type": "code",
   "execution_count": 15,
   "metadata": {},
   "outputs": [],
   "source": [
    "# Problem 4 :\n",
    "\n",
    "\n",
    "# def longest_increasing_subsequence(nums):------------------->O(n**2)\n",
    "\n",
    "#     n = len(nums)----------------->O(1)\n",
    "\n",
    "#     lis = [1] * n------------------>O(1)\n",
    "\n",
    "#     for i in range(1, n):------------------->O(n)\n",
    "\n",
    "#         for j in range(0, i):------------------------->O(n**2)\n",
    "\n",
    "#             if nums[i] > nums[j] and lis[i] < lis[j] + 1:\n",
    "\n",
    "#                 lis[i] = lis[j] + 1\n",
    "\n",
    "#     return max(list)\n"
   ]
  },
  {
   "cell_type": "code",
   "execution_count": 18,
   "metadata": {},
   "outputs": [
    {
     "name": "stdout",
     "output_type": "stream",
     "text": [
      "1\n"
     ]
    }
   ],
   "source": [
    "# Problem 5 :\n",
    "\n",
    "# def mysterious_function(arr):------------------------>O(n**2)\n",
    "\n",
    "#     n = len(arr)---------------->O(1)\n",
    "\n",
    "#     result = 0\n",
    "\n",
    "#     for i in range(n):--------------->O(n)\n",
    "\n",
    "#         for j in range(i, n):---------------->O(n**2)\n",
    "\n",
    "#             result += arr[i] * arr[j]\n",
    "\n",
    "#     return result\n"
   ]
  },
  {
   "cell_type": "code",
   "execution_count": 8,
   "metadata": {},
   "outputs": [
    {
     "data": {
      "text/plain": [
       "6"
      ]
     },
     "execution_count": 8,
     "metadata": {},
     "output_type": "execute_result"
    }
   ],
   "source": [
    "# Solve the following problems on recursion\n",
    "# Problem 6 : Sum of Digits\n",
    "# Write a recursive function to calculate the sum of digits of a given positive integer.\n",
    "def sum_of_digits(num):\n",
    "    if  num==0:\n",
    "        return num\n",
    "    return int(num%10)+sum_of_digits(num//10)\n",
    "    \n",
    "    \n",
    "\n",
    "\n",
    "sum_of_digits(123) \n"
   ]
  },
  {
   "cell_type": "code",
   "execution_count": 2,
   "metadata": {},
   "outputs": [
    {
     "name": "stdout",
     "output_type": "stream",
     "text": [
      "0\n",
      "1\n",
      "1\n",
      "2\n",
      "3\n",
      "5\n"
     ]
    }
   ],
   "source": [
    "# Problem 7: Fibonacci Series\n",
    "\n",
    "\n",
    "# Write a recursive function to generate the first n numbers of the Fibonacci series.-> [0, 1, 1, 2, 3, 5]\n",
    "\n",
    "\n",
    "def fibonacci(num):\n",
    "    \n",
    "    if num<=1:\n",
    "       return num\n",
    "    else:\n",
    "       return(fibonacci(num-1)+fibonacci(num-2))\n",
    "    \n",
    "def fibonacci_series(n):\n",
    "   \n",
    "    if n < 0:\n",
    "     print(\"Incorrect input\")\n",
    "    elif n == 0:\n",
    "     print(n)\n",
    "    elif n == 1:\n",
    "     print(n)\n",
    "    else:\n",
    "      for i in range(n):\n",
    "        print(fibonacci(i))\n",
    "\n",
    "fibonacci_series(6) "
   ]
  },
  {
   "cell_type": "code",
   "execution_count": 15,
   "metadata": {},
   "outputs": [
    {
     "data": {
      "text/plain": [
       "True"
      ]
     },
     "execution_count": 15,
     "metadata": {},
     "output_type": "execute_result"
    }
   ],
   "source": [
    "# Problem 8 : Subset Sum\n",
    "\n",
    "\n",
    "# Given a set of positive integers and a target sum, write a recursive function to determine if there exists a subset \n",
    "# of the integers that adds up to the target sum.\n",
    "arr=[3, 34, 4, 12, 5, 2]\n",
    "n=len(arr)\n",
    "sum=9\n",
    "def subset_sum(arr,n,sum):\n",
    "    if sum==0:\n",
    "        return True\n",
    "    if n==0:\n",
    "        return False\n",
    "    if arr[n-1]>sum:\n",
    "        return subset_sum(arr,n-1,sum)\n",
    "    return subset_sum(arr,n-1 ,sum) or subset_sum(arr,n-1,sum-arr[n-1])\n",
    "\n",
    "subset_sum(arr,n,sum)\n",
    "# subset_sum([3, 34, 4, 12, 5, 2], 9) -> True"
   ]
  },
  {
   "cell_type": "code",
   "execution_count": 16,
   "metadata": {},
   "outputs": [
    {
     "data": {
      "text/plain": [
       "True"
      ]
     },
     "execution_count": 16,
     "metadata": {},
     "output_type": "execute_result"
    }
   ],
   "source": [
    "# Problem 9: Word Break\n",
    "\n",
    "\n",
    "# Given a non-empty string and a dictionary of words, write a recursive function to determine if the string can be \n",
    "# segmented into a space-separated sequence of dictionary words.\n",
    "def wordBreak(wordList , word):\n",
    "  if word == \"\":\n",
    "    return True\n",
    "  else :\n",
    "    wordLen = len(word)\n",
    "    for i in range(1, wordLen+1):\n",
    "      if word[:i] in wordList and wordBreak(wordList, word[i:]):\n",
    "        return True\n",
    "    return False\n",
    "\n",
    "wordBreak( [ \"leet\" , \"code\" ],\"leetcode\") "
   ]
  },
  {
   "cell_type": "code",
   "execution_count": 18,
   "metadata": {},
   "outputs": [
    {
     "name": "stdout",
     "output_type": "stream",
     "text": [
      ". . Q . \n",
      "Q . . . \n",
      ". . . Q \n",
      ". Q . . \n"
     ]
    }
   ],
   "source": [
    "# Problem 10 : N-Queens\n",
    "\n",
    "\n",
    "# Implement a recursive function to solve the N Queens problem, where you have to place N queens on an N×N \n",
    "# chessboard in such a way that no two queens threaten each other.\n",
    "\n",
    "def isSafeToPlaceQueen(board , row , col , n):\n",
    "\n",
    "  # Check in the left side\n",
    "  for i in range(col):\n",
    "    if board[row][i]==1 :\n",
    "      return False\n",
    "\n",
    "  #Check in the upper left diagonal\n",
    "  for i, j in zip(range(row,-1,-1),range(col,-1,-1)):\n",
    "    if board[i][j] ==1:\n",
    "      return False\n",
    "\n",
    "  #Check in the lower left diagonal\n",
    "  for i,j in zip(range(row,n,1 ), range(col, -1,-1)):\n",
    "    if board[i][j]==1:\n",
    "      return False\n",
    "\n",
    "  return True\n",
    "\n",
    "\n",
    "def solveNQ(board,n):\n",
    "\n",
    "  if not solveNQUtil(board,0,n):\n",
    "    print(\"Solution doesn't exist\")\n",
    "    return\n",
    "\n",
    "  printBoard(board,n)\n",
    "\n",
    "# Should return True if we are able to place all the queens\n",
    "def solveNQUtil(board , col , n):\n",
    "  if(col >=n): #Base condition\n",
    "    return True  # Means we have bee able to put queens in all the columns\n",
    "\n",
    "  # Check for all the rows\n",
    "  for row in range(n) :\n",
    "    if isSafeToPlaceQueen(board,row,col, n) :\n",
    "      board[row][col]= 1 #Set the queen\n",
    "\n",
    "      #Recursively try for the next columns\n",
    "      if solveNQUtil(board,col+1,n):\n",
    "        return True\n",
    "      #Back Tracking\n",
    "      board[row][col]= 0 # Queen can't be set here\n",
    "\n",
    "  return False #Won't be able to place the queen\n",
    "\n",
    "\n",
    "def printBoard(board,n):\n",
    "  for i in range(n):\n",
    "    for j in range(n):\n",
    "      if board[i][j]==1 :\n",
    "        print(\"Q\",end=\" \")\n",
    "      else :\n",
    "        print(\".\",end=\" \")\n",
    "    print()\n",
    "board = [[0,0,0,0],\n",
    "         [0,0,0,0],\n",
    "         [0,0,0,0],\n",
    "         [0,0,0,0]\n",
    "         ]\n",
    "solveNQ(board,4)\n",
    "# n_queens(4)\n",
    "\n",
    "\n",
    "# [\n",
    "\n",
    "#  [\".Q..\",\n",
    "\n",
    "#   \"...Q\",\n",
    "\n",
    "#   \"Q...\",\n",
    "\n",
    "#   \"..Q.\"],\n",
    "\n",
    "#  [\"..Q.\",\n",
    "\n",
    "#   \"Q...\",\n",
    "\n",
    "#   \"...Q\",\n",
    "\n",
    "#   \".Q..\"]\n",
    "\n",
    "# ]"
   ]
  },
  {
   "cell_type": "code",
   "execution_count": null,
   "metadata": {},
   "outputs": [],
   "source": []
  }
 ],
 "metadata": {
  "kernelspec": {
   "display_name": "Python 3",
   "language": "python",
   "name": "python3"
  },
  "language_info": {
   "codemirror_mode": {
    "name": "ipython",
    "version": 3
   },
   "file_extension": ".py",
   "mimetype": "text/x-python",
   "name": "python",
   "nbconvert_exporter": "python",
   "pygments_lexer": "ipython3",
   "version": "3.11.5"
  }
 },
 "nbformat": 4,
 "nbformat_minor": 2
}
